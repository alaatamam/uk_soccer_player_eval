{
 "cells": [
  {
   "cell_type": "markdown",
   "metadata": {},
   "source": [
    "ML Model for Soccer Players\n",
    "\n",
    "Attempting to model the price of players based on stats"
   ]
  },
  {
   "cell_type": "code",
   "execution_count": 1,
   "metadata": {},
   "outputs": [],
   "source": [
    "import pandas as pd\n",
    "import numpy as np\n",
    "from scipy import *\n",
    "import seaborn as sns\n",
    "import matplotlib.pyplot as plt\n",
    "\n",
    "from sklearn.ensemble import RandomForestRegressor\n",
    "from sklearn.model_selection import train_test_split\n",
    "from sklearn.metrics import mean_squared_error\n",
    "from sklearn.inspection import permutation_importance\n",
    "\n",
    "from sklearn.metrics import accuracy_score, classification_report\n",
    "from sklearn.model_selection import train_test_split\n",
    "from sklearn.neighbors import KNeighborsClassifier\n",
    "\n",
    "from sklearn.svm import SVC\n",
    "from sklearn.preprocessing import StandardScaler\n",
    "from sklearn.preprocessing import OneHotEncoder"
   ]
  },
  {
   "cell_type": "code",
   "execution_count": 2,
   "metadata": {},
   "outputs": [],
   "source": [
    "# Import data\n",
    "games_df = pd.read_csv('games.csv')\n",
    "players_df = pd.read_csv('players.csv')\n",
    "valuations_df = pd.read_csv('player_valuations.csv')\n",
    "appearances_df = pd.read_csv('appearances.csv')"
   ]
  },
  {
   "cell_type": "code",
   "execution_count": 3,
   "metadata": {},
   "outputs": [
    {
     "name": "stdout",
     "output_type": "stream",
     "text": [
      "       player_id  yellow_cards  red_cards  goals  assists  height_in_cm  \\\n",
      "0             10            19          0     48       24         184.0   \n",
      "1             26             4          2      0        0         190.0   \n",
      "2             80             0          0      0        0         194.0   \n",
      "3            132            13          0      9        4         179.0   \n",
      "4            215             3          0     26        8         193.0   \n",
      "...          ...           ...        ...    ...      ...           ...   \n",
      "22886    1143811             1          0      0        0         181.0   \n",
      "22887    1143823             0          0      0        0         173.0   \n",
      "22888    1159449             0          0      0        0         180.0   \n",
      "22889    1163778             0          0      0        1         193.0   \n",
      "22890    1166093             1          0      1        0         182.0   \n",
      "\n",
      "       position  foot  highest_market_value_in_eur  \n",
      "0             1   1.0                   30000000.0  \n",
      "1             4   2.0                    8000000.0  \n",
      "2             4   1.0                    3000000.0  \n",
      "3             3   3.0                   17500000.0  \n",
      "4             1   1.0                   12000000.0  \n",
      "...         ...   ...                          ...  \n",
      "22886         2   1.0                          NaN  \n",
      "22887         1   1.0                          NaN  \n",
      "22888         1   1.0                     100000.0  \n",
      "22889         1   1.0                          NaN  \n",
      "22890         3   3.0                      50000.0  \n",
      "\n",
      "[22891 rows x 9 columns]\n"
     ]
    }
   ],
   "source": [
    "# Create dataframe with each required column\n",
    "mrkt_value_df = players_df[['highest_market_value_in_eur', 'player_id']]\n",
    "\n",
    "players_df = players_df[(players_df['height_in_cm']>100)]\n",
    "players_df = players_df[['player_id', 'height_in_cm', 'position', 'foot']]\n",
    "# Change categorical variables\n",
    "players_df = players_df.replace(['Attack', 'Defender', 'Midfield', 'Goalkeeper'], [1, 2, 3, 4])\n",
    "players_df = players_df[players_df['position'] != 'Missing']\n",
    "players_df = players_df.replace(['right','left', 'both'], [1, 2, 3])\n",
    "\n",
    "game_stats = appearances_df[['player_id', 'yellow_cards', 'red_cards', 'goals', 'assists']]\n",
    "game_stats = game_stats.groupby(game_stats['player_id']).aggregate('sum')\n",
    "game_stats = game_stats.sort_values('player_id')\n",
    "\n",
    "# print(game_stats)\n",
    "# print(mrkt_value_df)\n",
    "# game_stats = players_df.set_index('player_id').join(game_stats.set_index('player_id'))\n",
    "game_stats = pd.merge(game_stats, players_df, on='player_id')\n",
    "all_stats = pd.merge(game_stats, mrkt_value_df, on='player_id')\n",
    "print(all_stats)\n",
    "\n",
    "all_stats = all_stats.dropna()"
   ]
  },
  {
   "cell_type": "code",
   "execution_count": 4,
   "metadata": {},
   "outputs": [],
   "source": [
    "# Partition Data\n",
    "X = all_stats[['yellow_cards', 'red_cards', 'goals', 'assists', 'height_in_cm', 'position', 'foot']]\n",
    "y = all_stats['highest_market_value_in_eur']\n",
    "\n",
    "X_train, X_test, y_train, y_test = train_test_split(X, y, random_state=1, test_size=0.3, train_size=0.7) "
   ]
  },
  {
   "cell_type": "code",
   "execution_count": 5,
   "metadata": {},
   "outputs": [
    {
     "name": "stdout",
     "output_type": "stream",
     "text": [
      "Mean Squared Error: 76189205939309.33\n",
      "Root Mean Squared Error: 8728642.84635987\n",
      "R² Score: 0.3648139402709947\n"
     ]
    }
   ],
   "source": [
    "from sklearn.neighbors import KNeighborsRegressor\n",
    "from sklearn.metrics import mean_squared_error, r2_score\n",
    "import numpy as np\n",
    "\n",
    "# Assuming X_train, y_train, X_test, and y_test are already defined\n",
    "\n",
    "# KNN Model for Regression\n",
    "k = 100\n",
    "\n",
    "knn = KNeighborsRegressor(n_neighbors=k)\n",
    "knn.fit(X_train, y_train)\n",
    "y_pred = knn.predict(X_test)\n",
    "\n",
    "# Evaluate the model\n",
    "mse = mean_squared_error(y_test, y_pred)  # Calculate Mean Squared Error\n",
    "rmse = np.sqrt(mse)                      # Calculate Root Mean Squared Error\n",
    "r2 = r2_score(y_test, y_pred)            # Calculate R² Score\n",
    "\n",
    "print(\"Mean Squared Error:\", mse)\n",
    "print(\"Root Mean Squared Error:\", rmse)\n",
    "print(\"R² Score:\", r2)\n"
   ]
  },
  {
   "cell_type": "code",
   "execution_count": 6,
   "metadata": {},
   "outputs": [
    {
     "name": "stdout",
     "output_type": "stream",
     "text": [
      "The mse is 76120289345362.03\n"
     ]
    }
   ],
   "source": [
    "# Random Tree Model\n",
    "rf = RandomForestRegressor(random_state=1)\n",
    "rf.fit(X_train, y_train)\n",
    "y_pred = rf.predict(X_test)\n",
    "mse = mean_squared_error(y_test, y_pred)\n",
    "print('The mse is {}'.format(round(mse,2)))"
   ]
  },
  {
   "cell_type": "code",
   "execution_count": 7,
   "metadata": {},
   "outputs": [
    {
     "data": {
      "image/png": "[encoded data removed]",
      "text/plain": [
       "<Figure size 640x480 with 1 Axes>"
      ]
     },
     "metadata": {},
     "output_type": "display_data"
    }
   ],
   "source": [
    "# Feature Importance\n",
    "result = permutation_importance(\n",
    "    rf, X_test, y_test, random_state=1\n",
    ")\n",
    "feature_names = ['yellow_cards', 'red_cards', 'goals', 'assists', 'height_in_cm', 'position', 'foot']\n",
    "rf_importances = pd.Series(result.importances_mean, index=feature_names)\n",
    "\n",
    "fig, ax = plt.subplots()\n",
    "rf_importances.plot.bar(yerr=result.importances_std, ax=ax)\n",
    "ax.set_title(\"Feature importances using permutation on full model\")\n",
    "ax.set_ylabel(\"Mean accuracy decrease\")\n",
    "fig.tight_layout()\n",
    "plt.show()"
   ]
  },
  {
   "cell_type": "code",
   "execution_count": 8,
   "metadata": {},
   "outputs": [
    {
     "name": "stdout",
     "output_type": "stream",
     "text": [
      "The accuracy of the model is: 0.04637157482685938\n"
     ]
    }
   ],
   "source": [
    "# SVM\n",
    "scaler = StandardScaler()\n",
    "scaler.fit(X_train[['yellow_cards', 'red_cards', 'goals', 'assists', 'height_in_cm', 'position', 'foot']])\n",
    "\n",
    "X_train[['yellow_cards', 'red_cards', 'goals', 'assists', 'height_in_cm', 'position', 'foot']] = scaler.transform(X_train[['yellow_cards', 'red_cards', 'goals', 'assists', 'height_in_cm', 'position', 'foot']])\n",
    "\n",
    "svm = SVC()\n",
    "svm.fit(X_train, y_train)\n",
    "\n",
    "y_pred = svm.predict(X_test)\n",
    "\n",
    "print('The accuracy of the model is: {}'.format(svm.score(X_test, y_test)))"
   ]
  }
 ],
 "metadata": {
  "kernelspec": {
   "display_name": "Python 3 (ipykernel)",
   "language": "python",
   "name": "python3"
  },
  "language_info": {
   "codemirror_mode": {
    "name": "ipython",
    "version": 3
   },
   "file_extension": ".py",
   "mimetype": "text/x-python",
   "name": "python",
   "nbconvert_exporter": "python",
   "pygments_lexer": "ipython3",
   "version": "3.11.4"
  }
 },
 "nbformat": 4,
 "nbformat_minor": 2
}
